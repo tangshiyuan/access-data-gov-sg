{
 "cells": [
  {
   "cell_type": "code",
   "execution_count": 62,
   "metadata": {},
   "outputs": [
    {
     "data": {
      "text/html": [
       "<div>\n",
       "<style>\n",
       "    .dataframe thead tr:only-child th {\n",
       "        text-align: right;\n",
       "    }\n",
       "\n",
       "    .dataframe thead th {\n",
       "        text-align: left;\n",
       "    }\n",
       "\n",
       "    .dataframe tbody tr th {\n",
       "        vertical-align: top;\n",
       "    }\n",
       "</style>\n",
       "<table border=\"1\" class=\"dataframe\">\n",
       "  <thead>\n",
       "    <tr style=\"text-align: right;\">\n",
       "      <th></th>\n",
       "      <th>station_id</th>\n",
       "      <th>name</th>\n",
       "      <th>latitude</th>\n",
       "      <th>longitude</th>\n",
       "    </tr>\n",
       "  </thead>\n",
       "  <tbody>\n",
       "    <tr>\n",
       "      <th>0</th>\n",
       "      <td>S7</td>\n",
       "      <td>Macritchie Reservoir</td>\n",
       "      <td>1.3417</td>\n",
       "      <td>103.8338</td>\n",
       "    </tr>\n",
       "    <tr>\n",
       "      <th>1</th>\n",
       "      <td>S8</td>\n",
       "      <td>Lower Peirce Reservoir</td>\n",
       "      <td>1.3701</td>\n",
       "      <td>103.8271</td>\n",
       "    </tr>\n",
       "    <tr>\n",
       "      <th>2</th>\n",
       "      <td>S11</td>\n",
       "      <td>Choa Chu Kang (West)</td>\n",
       "      <td>1.3746</td>\n",
       "      <td>103.6938</td>\n",
       "    </tr>\n",
       "    <tr>\n",
       "      <th>3</th>\n",
       "      <td>S24</td>\n",
       "      <td>Changi Climate Station</td>\n",
       "      <td>1.3678</td>\n",
       "      <td>103.9826</td>\n",
       "    </tr>\n",
       "    <tr>\n",
       "      <th>4</th>\n",
       "      <td>S29</td>\n",
       "      <td>Pasir Ris (West)</td>\n",
       "      <td>1.3863</td>\n",
       "      <td>103.9412</td>\n",
       "    </tr>\n",
       "  </tbody>\n",
       "</table>\n",
       "</div>"
      ],
      "text/plain": [
       "  station_id                     name  latitude  longitude\n",
       "0         S7    Macritchie Reservoir     1.3417   103.8338\n",
       "1         S8  Lower Peirce Reservoir     1.3701   103.8271\n",
       "2        S11    Choa Chu Kang (West)     1.3746   103.6938\n",
       "3        S24  Changi Climate Station     1.3678   103.9826\n",
       "4        S29        Pasir Ris (West)     1.3863   103.9412"
      ]
     },
     "execution_count": 62,
     "metadata": {},
     "output_type": "execute_result"
    }
   ],
   "source": [
    "import matplotlib.pyplot as plt\n",
    "import pandas as pd\n",
    "import requests\n",
    "import seaborn as sns\n",
    "from tqdm import tqdm\n",
    "\n",
    "%matplotlib inline\n",
    "\n",
    "stations_df = pd.read_csv(\"stations.csv\")\n",
    "stations_df.head()"
   ]
  },
  {
   "cell_type": "markdown",
   "metadata": {},
   "source": [
    "## Define function"
   ]
  },
  {
   "cell_type": "code",
   "execution_count": 63,
   "metadata": {},
   "outputs": [],
   "source": [
    "def rain_data(date):\n",
    "    # Get rainfall at 30-min intervals on a specific date\n",
    "    start_datetime = date.strftime(\"%Y-%m-%d\") + ' 07:05:00'\n",
    "    end_datetime = date.strftime(\"%Y-%m-%d\") + ' 09:35:00'\n",
    "    \n",
    "    rainfall_df = pd.DataFrame(columns=['station_id', 'rainfall', 'timestamp (SGT)'])\n",
    "    for dt in pd.date_range(start_datetime, end_datetime, freq='30min'):  # I remember this was a wet day\n",
    "        r = requests.get('https://api.data.gov.sg/v1/environment/rainfall',\n",
    "                         params={'date_time': dt.strftime('%Y-%m-%dT%H:%M:%S')})\n",
    "        try:\n",
    "            temp_df = pd.DataFrame(r.json()['items'][0]['readings'])\n",
    "        except ValueError:\n",
    "            print('No data JSONDecodeError {}'.format(dt))\n",
    "            continue\n",
    "        except KeyError:\n",
    "            print('No items KeyError {}'.format(dt))\n",
    "            continue\n",
    "        temp_df = temp_df.rename(columns={'value': 'rainfall'})\n",
    "        temp_df['timestamp (SGT)'] = pd.to_datetime(r.json()['items'][0]['timestamp'].split('+')[0])\n",
    "        rainfall_df = rainfall_df.append(temp_df, ignore_index=True)\n",
    "    #rainfall_df.head()\n",
    "\n",
    "    rainfall_df['rainfall'] = rainfall_df['rainfall'].astype('float')  # convert to float\n",
    "    \n",
    "    rainfallmean_df = rainfall_df.groupby('station_id').mean()\n",
    "    rainfallmean_df['date'] = date\n",
    "    rainfallmean_df = rainfallmean_df.reset_index()\n",
    "    \n",
    "    return rainfallmean_df"
   ]
  },
  {
   "cell_type": "markdown",
   "metadata": {},
   "source": [
    "## Specify dates"
   ]
  },
  {
   "cell_type": "code",
   "execution_count": 64,
   "metadata": {},
   "outputs": [
    {
     "data": {
      "text/plain": [
       "DatetimeIndex(['2018-01-01', '2018-01-02', '2018-01-03', '2018-01-04',\n",
       "               '2018-01-05', '2018-01-06', '2018-01-07', '2018-01-08',\n",
       "               '2018-01-09', '2018-01-10', '2018-01-11', '2018-01-12',\n",
       "               '2018-01-13', '2018-01-14', '2018-01-15', '2018-01-16',\n",
       "               '2018-01-17', '2018-01-18', '2018-01-19', '2018-01-20',\n",
       "               '2018-01-21', '2018-01-22', '2018-01-23', '2018-01-24',\n",
       "               '2018-01-25', '2018-01-26', '2018-01-27', '2018-01-28',\n",
       "               '2018-01-29', '2018-01-30', '2018-01-31'],\n",
       "              dtype='datetime64[ns]', freq='D')"
      ]
     },
     "execution_count": 64,
     "metadata": {},
     "output_type": "execute_result"
    }
   ],
   "source": [
    "start_date = '2018-01-01'\n",
    "end_date = '2018-01-31'\n",
    "\n",
    "date_list =pd.date_range(start_date, end_date, freq='1D')\n",
    "date_list"
   ]
  },
  {
   "cell_type": "code",
   "execution_count": 57,
   "metadata": {},
   "outputs": [],
   "source": [
    "#date_list[0].strftime(\"%Y-%m-%d\")"
   ]
  },
  {
   "cell_type": "markdown",
   "metadata": {},
   "source": [
    "## Main program"
   ]
  },
  {
   "cell_type": "code",
   "execution_count": 65,
   "metadata": {
    "scrolled": false
   },
   "outputs": [
    {
     "name": "stderr",
     "output_type": "stream",
     "text": [
      "100%|██████████| 31/31 [00:37<00:00,  1.21s/it]\n"
     ]
    }
   ],
   "source": [
    "#date_list =pd.date_range('2018-01-01', '2018-01-02', freq='1D')\n",
    "rainfallmean_df = pd.DataFrame()\n",
    "\n",
    "for date in tqdm(date_list):\n",
    "    temp_df = rain_data(date)\n",
    "    rainfallmean_df = rainfallmean_df.append(temp_df, ignore_index=True)\n",
    "\n",
    "rainfallmean_df\n",
    "\n",
    "# Union of wind-speed and station data\n",
    "outer_df = pd.merge(rainfallmean_df, stations_df, how='inner', on=['station_id'])\n",
    "outer_df.head(15)\n",
    "\n",
    "filename = 'rainfallmean_{}to{}.csv'.format(start_date, end_date)\n",
    "filename\n",
    "\n",
    "#outer_rainfall_df.to_csv(filename, index = False)\n",
    "outer_df.to_csv(filename, index = False)"
   ]
  },
  {
   "cell_type": "markdown",
   "metadata": {},
   "source": [
    "## Debug - backup"
   ]
  },
  {
   "cell_type": "code",
   "execution_count": 15,
   "metadata": {},
   "outputs": [
    {
     "data": {
      "text/plain": [
       "[]"
      ]
     },
     "execution_count": 15,
     "metadata": {},
     "output_type": "execute_result"
    }
   ],
   "source": [
    "all_date_list = []\n",
    "all_date_list"
   ]
  },
  {
   "cell_type": "code",
   "execution_count": 13,
   "metadata": {},
   "outputs": [
    {
     "data": {
      "text/plain": [
       "DatetimeIndex(['2018-01-01', '2018-01-02', '2018-01-03', '2018-01-04',\n",
       "               '2018-01-05', '2018-01-06', '2018-01-07', '2018-01-08',\n",
       "               '2018-01-09', '2018-01-10', '2018-01-11', '2018-01-12',\n",
       "               '2018-01-13', '2018-01-14', '2018-01-15', '2018-01-16',\n",
       "               '2018-01-17', '2018-01-18', '2018-01-19', '2018-01-20',\n",
       "               '2018-01-21', '2018-01-22', '2018-01-23', '2018-01-24',\n",
       "               '2018-01-25', '2018-01-26', '2018-01-27', '2018-01-28',\n",
       "               '2018-01-29', '2018-01-30', '2018-01-31'],\n",
       "              dtype='datetime64[ns]', freq='D')"
      ]
     },
     "execution_count": 13,
     "metadata": {},
     "output_type": "execute_result"
    }
   ],
   "source": [
    "date_list"
   ]
  },
  {
   "cell_type": "code",
   "execution_count": 9,
   "metadata": {},
   "outputs": [
    {
     "data": {
      "text/plain": [
       "DatetimeIndex(['2018-01-08 07:05:00', '2018-01-08 07:35:00',\n",
       "               '2018-01-08 08:05:00', '2018-01-08 08:35:00',\n",
       "               '2018-01-08 09:05:00', '2018-01-08 09:35:00'],\n",
       "              dtype='datetime64[ns]', freq='30T')"
      ]
     },
     "execution_count": 9,
     "metadata": {},
     "output_type": "execute_result"
    }
   ],
   "source": [
    "#pd.date_range(datetime, periods=(24*(60/30)+1), freq='30min')\n",
    "pd.date_range(start_datetime, end_datetime, freq='30min')"
   ]
  },
  {
   "cell_type": "code",
   "execution_count": null,
   "metadata": {},
   "outputs": [],
   "source": [
    "\n",
    "# Get rainfall at 30-min intervals on a specific date\n",
    "rainfall_df = pd.DataFrame(columns=['station_id', 'rainfall', 'timestamp (SGT)'])\n",
    "for dt in tqdm(pd.date_range(start_datetime, end_datetime, freq='30min')):  # I remember this was a wet day\n",
    "    r = requests.get('https://api.data.gov.sg/v1/environment/rainfall',\n",
    "                     params={'date_time': dt.strftime('%Y-%m-%dT%H:%M:%S')})\n",
    "    try:\n",
    "        temp_df = pd.DataFrame(r.json()['items'][0]['readings'])\n",
    "    except ValueError:\n",
    "        print('No data JSONDecodeError {}'.format(dt))\n",
    "        continue\n",
    "    except KeyError:\n",
    "        print('No items KeyError {}'.format(dt))\n",
    "        continue\n",
    "    temp_df = temp_df.rename(columns={'value': 'rainfall'})\n",
    "    temp_df['timestamp (SGT)'] = pd.to_datetime(r.json()['items'][0]['timestamp'].split('+')[0])\n",
    "    rainfall_df = rainfall_df.append(temp_df, ignore_index=True)\n",
    "#rainfall_df.head()\n",
    "\n",
    "rainfall_df['rainfall'] = rainfall_df['rainfall'].astype('float')  # convert to float\n",
    "\n",
    "# Union of wind-speed and station data\n",
    "outer_df = pd.merge(rainfall_df, stations_df, how='outer', on=['station_id'])\n",
    "outer_df.head(15)\n",
    "\n",
    "filename = 'rainfall_{}.csv'.format(date)\n",
    "filename\n",
    "\n",
    "#outer_rainfall_df.to_csv(filename, index = False)\n",
    "outer_df.to_csv(filename, index = False)"
   ]
  },
  {
   "cell_type": "code",
   "execution_count": 16,
   "metadata": {},
   "outputs": [
    {
     "name": "stderr",
     "output_type": "stream",
     "text": [
      "100%|██████████| 6/6 [00:01<00:00,  3.34it/s]\n"
     ]
    }
   ],
   "source": [
    "# Get rainfall at 30-min intervals on a specific date\n",
    "rainfall_df = pd.DataFrame(columns=['station_id', 'rainfall', 'timestamp (SGT)'])\n",
    "for dt in tqdm(pd.date_range(start_datetime, end_datetime, freq='30min')):  # I remember this was a wet day\n",
    "    r = requests.get('https://api.data.gov.sg/v1/environment/rainfall',\n",
    "                     params={'date_time': dt.strftime('%Y-%m-%dT%H:%M:%S')})\n",
    "    try:\n",
    "        temp_df = pd.DataFrame(r.json()['items'][0]['readings'])\n",
    "    except ValueError:\n",
    "        print('No data JSONDecodeError {}'.format(dt))\n",
    "        continue\n",
    "    except KeyError:\n",
    "        print('No items KeyError {}'.format(dt))\n",
    "        continue\n",
    "    temp_df = temp_df.rename(columns={'value': 'rainfall'})\n",
    "    temp_df['timestamp (SGT)'] = pd.to_datetime(r.json()['items'][0]['timestamp'].split('+')[0])\n",
    "    rainfall_df = rainfall_df.append(temp_df, ignore_index=True)\n",
    "#rainfall_df.head()\n",
    "\n",
    "rainfall_df['rainfall'] = rainfall_df['rainfall'].astype('float')  # convert to float"
   ]
  },
  {
   "cell_type": "code",
   "execution_count": 48,
   "metadata": {},
   "outputs": [],
   "source": [
    "rainfallmean_df = rainfall_df.groupby('station_id').mean()\n",
    "rainfallmean_df['date'] = date\n",
    "rainfallmean_df = rainfallmean_df.reset_index()"
   ]
  },
  {
   "cell_type": "code",
   "execution_count": 52,
   "metadata": {},
   "outputs": [],
   "source": [
    "# Union of wind-speed and station data\n",
    "outer_df = pd.merge(rainfallmean_df, stations_df, how='inner', on=['station_id'])\n",
    "outer_df.head(15)\n",
    "\n",
    "filename = 'rainfallmean_{}.csv'.format(date.strftime(\"%Y-%m-%d\"))\n",
    "filename\n",
    "\n",
    "#outer_rainfall_df.to_csv(filename, index = False)\n",
    "outer_df.to_csv(filename, index = False)"
   ]
  },
  {
   "cell_type": "code",
   "execution_count": 54,
   "metadata": {},
   "outputs": [],
   "source": [
    "# Union of wind-speed and station data\n",
    "outer_df = pd.merge(rainfallmean_df, stations_df, how='inner', on=['station_id'])\n",
    "outer_df.head(15)\n",
    "\n",
    "filename = 'rainfallmean_{}to{}.csv'.format(start_date, end_date)\n",
    "filename\n",
    "\n",
    "#outer_rainfall_df.to_csv(filename, index = False)\n",
    "outer_df.to_csv(filename, index = False)"
   ]
  }
 ],
 "metadata": {
  "kernelspec": {
   "display_name": "Python [default]",
   "language": "python",
   "name": "python3"
  },
  "language_info": {
   "codemirror_mode": {
    "name": "ipython",
    "version": 3
   },
   "file_extension": ".py",
   "mimetype": "text/x-python",
   "name": "python",
   "nbconvert_exporter": "python",
   "pygments_lexer": "ipython3",
   "version": "3.6.3"
  }
 },
 "nbformat": 4,
 "nbformat_minor": 2
}
